{
 "cells": [
  {
   "cell_type": "markdown",
   "id": "7c78884c-bf17-49f5-890a-db46e0fd0201",
   "metadata": {},
   "source": [
    "### Prep before starting script \n",
    "!!! Convert .czi to .lsm (LSM 5) on ZEN Black on the 880 for the pipeline to run. Save both files in the file folder!!!\n",
    "\n",
    "Keep the .czi to create the dummy excel \n",
    "1. Open .czi file with FIJI BioFormats importer\n",
    "2. Before you press open tick the metadata option \n",
    "3. Once the image opens go to the metadata window, Ctrl + A and Ctrl + C the contents\n",
    "4. Ctrl + V the contents into an .txt file\n",
    "5. Call the .txt file OME_\"name of .czi file\"\n",
    "\n",
    "\n"
   ]
  },
  {
   "cell_type": "markdown",
   "id": "ab4440c5",
   "metadata": {},
   "source": [
    "### Imports"
   ]
  },
  {
   "cell_type": "code",
   "execution_count": 3,
   "id": "bed3afd7",
   "metadata": {},
   "outputs": [],
   "source": [
    "import re\n",
    "from datetime import datetime, timedelta\n",
    "from openpyxl import Workbook"
   ]
  },
  {
   "cell_type": "markdown",
   "id": "83f427b0",
   "metadata": {},
   "source": [
    "### Replace with your file paths"
   ]
  },
  {
   "cell_type": "code",
   "execution_count": 2,
   "id": "91b043de",
   "metadata": {},
   "outputs": [],
   "source": [
    "  \n",
    "# metadata .txt file path\n",
    "file_path_OME = r\"Y:\\Jacqui\\Critical_Period\\Example Analysis\\WT_C1_Above\\OME_WT_C1_Above_6dpf.txt\"  \n",
    "\n",
    "# Paths to the log files for ViSaGe and MCP systems.\n",
    "# ViSage clicks \n",
    "log_v_path = r'Y:\\Jacqui\\Critical_Period\\Example Analysis\\click_log_ViSaGe_6dpf_05_Jul_25.txt'\n",
    "# microscope PC clicks \n",
    "log_m_path = r'Y:\\Jacqui\\Critical_Period\\Example Analysis\\click_log_MPC_6dpf_05_Jul_25.txt'\n",
    "\n",
    "# Specify the output file path where frame times will be saved.\n",
    "output_file_path_fts = r\"Y:\\Jacqui\\Critical_Period\\Example Analysis\\WT_C1_Above\\frame_fimes.txt\" #USE AS STORED VARIABLE: CHANGE LATER!!!!\n",
    "\n",
    "# Final csv file path\n",
    "output_file = r\"Y:\\Jacqui\\Critical_Period\\Example Analysis\\WT_C1_Above\\Time_Events_for_.csv\"\n"
   ]
  },
  {
   "cell_type": "markdown",
   "id": "78f80175",
   "metadata": {},
   "source": [
    "### Part One: Find out which frame number coincides with the beginning of ViSaGe video\n",
    "Aim: Determine which frames to match with a stimulus "
   ]
  },
  {
   "cell_type": "markdown",
   "id": "a7cd2369",
   "metadata": {},
   "source": [
    "#### Step 1: Adjust time-series acquisition start to be on ViSaGe time \n",
    "##### Extract aquisition start time from microscope file metadata"
   ]
  },
  {
   "cell_type": "code",
   "execution_count": 4,
   "id": "68978bee",
   "metadata": {},
   "outputs": [
    {
     "name": "stdout",
     "output_type": "stream",
     "text": [
      "Original: 2025-06-05T16:17:09.605\n",
      "Adjusted (+1hr to get to BTS): 2025-06-05T17:17:09.605\n",
      "mpc_time (HH:MM:SS.ms): 17:17:09.605\n",
      "17:17:09.605\n"
     ]
    }
   ],
   "source": [
    "def extract_and_adjust_acquisition_time(file_path):\n",
    "    \"\"\"\n",
    "    Extracts the acquisition date and time from an OME metadata file,\n",
    "    adds one hour to the time, and returns the adjusted timestamp.\n",
    "    Also extracts the time in HH:MM:SS.ms format as mpc_time.\n",
    "    \"\"\"\n",
    "    with open(file_path, 'r', encoding='utf-8') as file:\n",
    "        content = file.read()\n",
    "\n",
    "    match = re.search(r\"<AcquisitionDate>(.*?)</AcquisitionDate>\", content)\n",
    "    \n",
    "    if match:\n",
    "        original_time_str = match.group(1)\n",
    "        original_time = datetime.strptime(original_time_str, \"%Y-%m-%dT%H:%M:%S.%f\")\n",
    "        adjusted_time = original_time + timedelta(hours=1)\n",
    "        adjusted_time_str = adjusted_time.strftime(\"%Y-%m-%dT%H:%M:%S.%f\")[:-3]\n",
    "        print(f\"Original: {original_time_str}\")\n",
    "        print(f\"Adjusted (+1hr to get to BTS): {adjusted_time_str}\")\n",
    "        \n",
    "        # Extract just the time part in HH:MM:SS.ms format\n",
    "        mpc_time = adjusted_time_str.split(\"T\")[1]\n",
    "        print(f\"mpc_time (HH:MM:SS.ms): {mpc_time}\")\n",
    "        return adjusted_time_str, mpc_time\n",
    "    else:\n",
    "        print(\"No <AcquisitionDate> tag found.\")\n",
    "        return None, None\n",
    " \n",
    "\n",
    "adjusted_time_str, mpc_time = extract_and_adjust_acquisition_time(file_path_OME)\n",
    "print(mpc_time) "
   ]
  },
  {
   "cell_type": "markdown",
   "id": "0618e12e",
   "metadata": {},
   "source": [
    "#### Find time difference between computers and adjust acquisition time (MPC adjusted)\n",
    "(MPC-ViSaGe = time difference, MPC - time difference = adjusted time to ViSaGe)\n"
   ]
  },
  {
   "cell_type": "code",
   "execution_count": 5,
   "id": "0373b4ed",
   "metadata": {},
   "outputs": [
    {
     "name": "stdout",
     "output_type": "stream",
     "text": [
      "Average time difference (MCP - ViSaGe): 1534 ms\n",
      "Average time difference (MM:SS.ms): 00:01.534\n",
      "MPC time 17:17:09.605 minus average difference = Adjusted MPC Time 17:17:08.071\n"
     ]
    }
   ],
   "source": [
    "\n",
    "# Converts a timestamp (hours, minutes, seconds, milliseconds) into total milliseconds.\n",
    "def timestamp_to_ms(h, m, s, ms):\n",
    "    return int(h)*3600000 + int(m)*60000 + int(s)*1000 + int(ms)\n",
    "\n",
    "# Converts milliseconds into a formatted string in MM:SS.ms format.\n",
    "def ms_to_mmssms(ms):\n",
    "    total_seconds = ms // 1000\n",
    "    minutes = total_seconds // 60\n",
    "    seconds = total_seconds % 60\n",
    "    milliseconds = abs(ms) % 1000\n",
    "    sign = \"-\" if ms < 0 else \"\"  # Handles negative time differences.\n",
    "    return f\"{sign}{minutes:02}:{seconds:02}.{milliseconds:03}\"\n",
    "\n",
    "# Converts milliseconds into a formatted string in HH:MM:SS.ms format.\n",
    "def ms_to_hhmmssms(ms):\n",
    "    total_seconds = ms // 1000\n",
    "    hours = total_seconds // 3600\n",
    "    minutes = (total_seconds % 3600) // 60\n",
    "    seconds = total_seconds % 60\n",
    "    milliseconds = abs(ms) % 1000\n",
    "    sign = \"-\" if ms < 0 else \"\"  # Handles negative time differences.\n",
    "    return f\"{sign}{hours:02}:{minutes:02}:{seconds:02}.{milliseconds:03}\"\n",
    "\n",
    "# Calculates the average time difference between two log files (ViSaGe and MCP).\n",
    "def find_time_diff(clicklogV, clicklogM):\n",
    "    # Reads the content of the ViSaGe log file.\n",
    "    with open(clicklogV, 'r') as logV:\n",
    "        contentV = logV.read()\n",
    "    # Reads the content of the MCP log file.\n",
    "    with open(clicklogM, 'r') as logM:\n",
    "        contentM = logM.read()\n",
    "\n",
    "    # Regular expression to extract timestamps in HH:MM:SS.ms format.\n",
    "    pattern = r'(\\d{2}):(\\d{2}):(\\d{2})\\.(\\d{1,3})'\n",
    "    # Converts timestamps from ViSaGe log into milliseconds.\n",
    "    time_log_V = [timestamp_to_ms(*match) for match in re.findall(pattern, contentV)]\n",
    "    # Converts timestamps from MCP log into milliseconds.\n",
    "    time_log_M = [timestamp_to_ms(*match) for match in re.findall(pattern, contentM)]\n",
    "\n",
    "    # Ensures both logs have the same number of timestamps for comparison.\n",
    "    min_len = min(len(time_log_V), len(time_log_M))\n",
    "    time_log_V = time_log_V[:min_len]\n",
    "    time_log_M = time_log_M[:min_len]\n",
    "\n",
    "    # Calculates the differences between corresponding timestamps in the two logs.\n",
    "    differences = [m - v for v, m in zip(time_log_V, time_log_M)]\n",
    "    # Computes the average time difference.\n",
    "    average_diff = int(round(sum(differences) / len(differences)))\n",
    "\n",
    "    # Prints the average time difference in milliseconds and MM:SS.ms format.\n",
    "    print(f\"Average time difference (MCP - ViSaGe): {average_diff} ms\")\n",
    "    print(f\"Average time difference (MM:SS.ms): {ms_to_mmssms(average_diff)}\")\n",
    "    return average_diff\n",
    "\n",
    "# Adjusts a given MCP timestamp by subtracting the average time difference.\n",
    "def subtract_diff_from_time(mpc_time_str, avg_diff_ms):\n",
    "    # Determines the format of the input timestamp (MM:SS.ms or HH:MM:SS.ms).\n",
    "    if len(mpc_time_str.split(\":\")) == 2:\n",
    "        # MM:SS.ms format\n",
    "        m, s_ms = mpc_time_str.split(\":\")\n",
    "        s, ms = s_ms.split(\".\")\n",
    "        total_ms = int(m)*60000 + int(s)*1000 + int(ms)\n",
    "    else:\n",
    "        # HH:MM:SS.ms format\n",
    "        h, m, s_ms = mpc_time_str.split(\":\")\n",
    "        s, ms = s_ms.split(\".\")\n",
    "        total_ms = int(h)*3600000 + int(m)*60000 + int(s)*1000 + int(ms)\n",
    "    # Subtracts the average time difference from the total milliseconds.\n",
    "    adjusted_ms = total_ms - avg_diff_ms\n",
    "    # Converts the adjusted milliseconds back into HH:MM:SS.ms format.\n",
    "    return ms_to_hhmmssms(adjusted_ms)\n",
    "\n",
    "\n",
    "# Calls the function to calculate the average time difference between the two logs.\n",
    "avg_diff = find_time_diff(log_v_path, log_m_path)\n",
    "\n",
    "# Example: Adjusts a specific MCP timestamp using the calculated average difference.\n",
    "#mpc_time = \"17:17:09.605\"  # INPUT MPC_TIME in HH:MM:SS.ms format!!!!!!!!!!!!!!!!!!!!!!!!!!!!!!!!!!!!!!!!!!!!!!!!!!\n",
    "adjusted_time = subtract_diff_from_time(mpc_time, avg_diff)\n",
    "print(f\"MPC time {mpc_time} minus average difference = Adjusted MPC Time {adjusted_time}\")"
   ]
  },
  {
   "cell_type": "markdown",
   "id": "2085534e-2f96-428e-bc76-475f5297f22a",
   "metadata": {},
   "source": [
    "#### Step 2: Extract Frame Times From Metadata (DeltaT)"
   ]
  },
  {
   "cell_type": "markdown",
   "id": "2b56ab98",
   "metadata": {},
   "source": [
    "#### Read and store acquision time of each frame from image metadata"
   ]
  },
  {
   "cell_type": "code",
   "execution_count": 6,
   "id": "907c355c-445c-4cd4-b3d0-4a34764312dc",
   "metadata": {},
   "outputs": [
    {
     "name": "stdout",
     "output_type": "stream",
     "text": [
      "[0.3380000591278076, 0.5439999103546143, 0.750999927520752, 0.9570000171661377, 1.1640000343322754, 1.369999885559082, 1.5759999752044678, 1.7829999923706055, 1.9890000820159912, 2.196000099182129, 2.4019999504089355, 2.6080000400543213, 2.815000057220459, 3.0209999084472656, 3.2279999256134033, 3.434000015258789, 3.6399998664855957, 3.8469998836517334, 4.052999973297119, 4.259999990463257, 4.466000080108643, 4.671999931335449, 4.878999948501587, 5.085000038146973, 5.29200005531311, 5.497999906539917, 5.703999996185303, 5.91100001335144, 6.116999864578247, 6.323999881744385, 6.5299999713897705, 6.736000061035156, 6.943000078201294, 7.148999929428101, 7.355999946594238, 7.562000036239624, 7.767999887466431, 7.974999904632568, 8.180999994277954, 8.388000011444092, 8.593999862670898, 8.799999952316284, 9.006999969482422, 9.213000059127808, 9.420000076293945, 9.625999927520752, 9.832000017166138, 10.039000034332275, 10.244999885559082, 10.45199990272522]\n"
     ]
    }
   ],
   "source": [
    "\n",
    "def extract_deltat_values(file_path_OME):\n",
    "    \"\"\"\n",
    "    Extracts all DeltaT values from a text file, including milliseconds (fractions of seconds).\n",
    "    \n",
    "    :param file_path: Path to the input text file.\n",
    "    :return: List of DeltaT values as floats, including milliseconds.\n",
    "    \"\"\"\n",
    "    # Read the file content\n",
    "    with open(file_path_OME, 'r') as file:\n",
    "        content = file.read()\n",
    "    \n",
    "    # Find all DeltaT values using regex and convert them to floats\n",
    "    deltat_values = [float(value) for value in re.findall(r'DeltaT=\"([0-9.]+)\"', content)]\n",
    "    \n",
    "    return deltat_values\n",
    "\n",
    "\n",
    "deltat_values = extract_deltat_values(file_path_OME)\n",
    "\n",
    "# Print only up to the first 50 values\n",
    "print(deltat_values[:50])\n"
   ]
  },
  {
   "cell_type": "markdown",
   "id": "0206b73d-9b73-4699-840e-1acc186da583",
   "metadata": {},
   "source": [
    "#### Step 3: Calculate actual time (HH:MM:SS.ms) for each frame on ViSaGe time\n",
    "> Code uses adjusted MPC acquisition time as time 0 \n",
    ">> adds the times for each frame as produced in previous code cell \n",
    ">>> creates a list of frame times that were aligned with the ViSaGe computer time"
   ]
  },
  {
   "cell_type": "code",
   "execution_count": 7,
   "id": "fb4ecde6-3f29-4026-b517-ebe32c54bf2d",
   "metadata": {},
   "outputs": [
    {
     "name": "stdout",
     "output_type": "stream",
     "text": [
      "Frame times successfully written to Y:\\Jacqui\\Critical_Period\\Example Analysis\\WT_C1_Above\\frame_fimes.txt\n"
     ]
    }
   ],
   "source": [
    "\n",
    "# Calculates actual timestamps for each frame using relative DeltaT values and the known first frame time.\n",
    "def calculate_frame_times(relative_times, first_frame_time):\n",
    "    \"\"\"\n",
    "    Calculate actual timestamps for each frame using DeltaT values and a known first frame time.\n",
    "    \n",
    "    :param relative_times: List of relative time points (in seconds).\n",
    "    :param first_frame_time: The actual time the first frame was collected (as a string in 'HH:MM:SS.sss' format).\n",
    "    :return: List of datetime objects representing actual timestamps of each frame.\n",
    "    \"\"\"\n",
    "    # Converts the first frame time string into a datetime object.\n",
    "    first_time = datetime.strptime(first_frame_time, \"%H:%M:%S.%f\")\n",
    "    # Adds each relative time (DeltaT) to the first frame time to calculate actual timestamps.\n",
    "    actual_times = [first_time + timedelta(seconds=t) for t in relative_times]\n",
    "    return actual_times\n",
    "\n",
    "# Writes the calculated frame timestamps to a file, numbering each frame.\n",
    "def write_frame_times_to_file(actual_times, output_file_path_fts):\n",
    "    \"\"\"\n",
    "    Save numbered timestamps to a file.\n",
    "    \n",
    "    :param actual_times: List of datetime objects representing actual timestamps of each frame.\n",
    "    :param output_file_path: Path to the output file where timestamps will be saved.\n",
    "    \"\"\"\n",
    "    # Opens the file for writing and writes each timestamp with its frame number.\n",
    "    with open(output_file_path_fts, 'w') as file:\n",
    "        for i, time in enumerate(actual_times):\n",
    "            # Formats the timestamp to 'HH:MM:SS.sss' and writes it to the file.\n",
    "            file.write(f\"{i+1}: {time.strftime('%H:%M:%S.%f')[:-3]}\\n\")\n",
    "    print(f\"Frame times successfully written to {output_file_path_fts}\")\n",
    "\n",
    "# Finds the closest frame to a given target time.\n",
    "def find_closest_frame(actual_times, target_time_str):\n",
    "    \"\"\"\n",
    "    Find the closest frame index to a given time string (HH:MM:SS.sss).\n",
    "    \n",
    "    :param actual_times: List of datetime objects representing actual timestamps of each frame.\n",
    "    :param target_time_str: Target time as a string in 'HH:MM:SS.sss' format.\n",
    "    :return: Tuple containing the closest frame index (1-based) and its timestamp.\n",
    "    \"\"\"\n",
    "    # Converts the target time string into a datetime object.\n",
    "    target_time = datetime.strptime(target_time_str, \"%H:%M:%S.%f\")\n",
    "    # Finds the index of the frame whose timestamp is closest to the target time.\n",
    "    closest_index = min(range(len(actual_times)), key=lambda i: abs(actual_times[i] - target_time))\n",
    "    # Returns the 1-based index and the corresponding timestamp.\n",
    "    return closest_index + 1, actual_times[closest_index]\n",
    "\n",
    "# -------------------------------\n",
    "# USE THIS SECTION TO RUN THE CODE\n",
    "# -------------------------------   \n",
    "\n",
    "# The adjusted time from the previous step is used as the first frame time.\n",
    "first_frame_time = adjusted_time  # This should be the adjusted time from the previous step.\n",
    "\n",
    "# Assume `deltat_values` is a list of relative time points (in seconds) already defined earlier.\n",
    "actual_times = calculate_frame_times(deltat_values, first_frame_time)\n",
    "\n",
    "# Writes the calculated frame times to the specified file.\n",
    "write_frame_times_to_file(actual_times, output_file_path_fts)\n",
    "\n"
   ]
  },
  {
   "cell_type": "markdown",
   "id": "7d86f525-40bd-4c2d-ac5b-15661c70f629",
   "metadata": {},
   "source": [
    "#### Step 3: Calculate which frame number coincides with the beginning of the ViSaGe video\n",
    "To do: Enter the ViSaGe time with ms you wrote down when you were imaging "
   ]
  },
  {
   "cell_type": "code",
   "execution_count": 8,
   "id": "a0b16a5b-aa72-4455-83f7-33c7d75180b3",
   "metadata": {},
   "outputs": [
    {
     "name": "stdout",
     "output_type": "stream",
     "text": [
      "Closest frame to 17:17:18.412 is frame #49 at time 17:17:18.316\n"
     ]
    }
   ],
   "source": [
    "# Ask user for a time and find the closest frame\n",
    "user_time = \"17:17:18.412\" #TIME YOU REORDED IN LAB BOOK!!!!!\n",
    "\n",
    "try:\n",
    "    frame_number, timestamp = find_closest_frame(actual_times, user_time)\n",
    "    print(f\"Closest frame to {user_time} is frame #{frame_number} at time {timestamp.strftime('%H:%M:%S.%f')[:-3]}\")\n",
    "except ValueError:\n",
    "    print(\"Invalid time format. Please enter the time as HH:MM:SS.sss\")\n",
    "\n",
    "# Print time of frame 50 (index 49 since indexing starts at 0)\n",
    "#frame_50_time = datetime.strptime(first_frame_time, \"%H:%M:%S.%f\") + timedelta(seconds=deltat_values[49])\n",
    "#print(f\"Time of frame 50: {frame_50_time.strftime('%H:%M:%S.%f')[:-3]}\")"
   ]
  },
  {
   "cell_type": "markdown",
   "id": "93ea77ed-ff01-42ae-ad3c-eaa82b651539",
   "metadata": {},
   "source": [
    "### Part 2: Use the user time frame number as offset to generate the epochs in the excel file \n",
    "\n",
    "!!! Change to easily input the frame number !!!"
   ]
  },
  {
   "cell_type": "code",
   "execution_count": 9,
   "id": "8a9efaf5-b30c-470c-8054-c3afbf5e96cd",
   "metadata": {},
   "outputs": [
    {
     "name": "stdout",
     "output_type": "stream",
     "text": [
      "Successfully saved data to Y:\\Jacqui\\Critical_Period\\Example Analysis\\WT_C1_Above\\Time_Events_for_.csv\n"
     ]
    }
   ],
   "source": [
    "\n",
    "# Extracts all DeltaT values from a text file and returns them as a list of floats.\n",
    "def extract_delta_t_values(file_path_OME):\n",
    "    \"\"\"\n",
    "    Extract all DeltaT values from a text file and return them as a list of floats.\n",
    "    \n",
    "    :param file_path: Path to the input text file containing DeltaT values.\n",
    "    :return: List of DeltaT values as floats.\n",
    "    \"\"\"\n",
    "\n",
    "    delta_t_values = []\n",
    "    # Regular expression to match DeltaT values in the format DeltaT=\"value\".\n",
    "    delta_t_pattern = re.compile(r'DeltaT=\"(\\d+\\.\\d+)\"')\n",
    "    \n",
    "    # Opens the file and searches for DeltaT values line by line.\n",
    "    with open(file_path_OME, 'r') as file:\n",
    "        for line in file:\n",
    "            match = delta_t_pattern.search(line)\n",
    "            if match:\n",
    "                # Converts the matched value to a float and adds it to the list.\n",
    "                delta_t_values.append(float(match.group(1)))\n",
    "    \n",
    "    return delta_t_values\n",
    "\n",
    "# Creates a new array starting from the ABOVE FOUND DeltaT INDEX VALUE and adding offset values.\n",
    "def create_new_array(delta_t_values, offset_values):\n",
    "    \"\"\"\n",
    "    Create a new array starting from the frame number calculated above and adding offset values.\n",
    "    \n",
    "    :param delta_t_values: List of DeltaT values extracted from the file.\n",
    "    :param offset_values: List of offset values to add to the initial DeltaT value.\n",
    "    :return: List of calculated time values.\n",
    "    \"\"\"\n",
    "    \n",
    "    if len(delta_t_values) < 49: #FRAME NUMBER HERE!!!!!!!!!!!!!!!!!!!!!!!!!!!!!!!!!!!!!!!!!!!!!!!!!!!!!!!!!!!!!!!!!!!!!!!!\n",
    "        # Ensures there are at least 50 DeltaT values in the file.\n",
    "        raise ValueError(\"There are fewer than 50 DeltaT values in the file.\")\n",
    "    \n",
    "    # The 50th value is at index -1 from the number above (0-based indexing).\n",
    "    initial_value = delta_t_values[48] #FRAME NUMBER HERE (-1)!!!!!!!!!!!!!!!!!!!!!!!!!!!!!!!!!!!!!!!!!!!!!!!!!!!!!!!!!!!!!!!!!!!!!!!!\n",
    "    new_array = [initial_value]\n",
    "    \n",
    "    # Iteratively adds each offset value to the last value in the array.\n",
    "    for offset in offset_values:\n",
    "        new_array.append(new_array[-1] + offset)\n",
    "    \n",
    "    return new_array\n",
    "\n",
    "# Saves the calculated time values to an Excel file with the specified format.\n",
    "def save_to_excel(time_values, output_file):\n",
    "    \"\"\"\n",
    "    Save the time values to an Excel file with the specified format.\n",
    "    \n",
    "    :param time_values: List of calculated time values to save.\n",
    "    :param output_file: Path to the output Excel file.\n",
    "    \"\"\"\n",
    "    wb = Workbook()\n",
    "    ws = wb.active\n",
    "    \n",
    "    # Write headers to the first row of the Excel file.\n",
    "    ws['A1'] = \"Time (sec)\"\n",
    "    ws['B1'] = \"Event Type\"\n",
    "    ws['C1'] = \"Event Description\"\n",
    "    \n",
    "    # Write data to subsequent rows.\n",
    "    for i, time in enumerate(time_values, 2):  # Start from row 2\n",
    "        ws.cell(row=i, column=1, value = (time))  # Time values in column A.\n",
    "        ws.cell(row=i, column=2, value=\"Marker\")  # Event type in column B.\n",
    "        ws.cell(row=i, column=3, value=\"trigger\")  # Event description in column C.\n",
    "    \n",
    "    # Saves the workbook to the specified file path.\n",
    "    wb.save(output_file)\n",
    "\n",
    "\n",
    "if __name__ == \"__main__\":\n",
    "    # The offset values provided for calculations.\n",
    "    offset_values = [\n",
    "        8.16, 10.1, 8.19, 10.11, 8.19, 10.11, 8.17, 10.12,\n",
    "        8.15, 10.11, 8.19, 10.1, 8.17, 10.1, 8.16, 10.11,\n",
    "        8.16, 10.11, 8.16, 10.12, 8.18, 10.1, 8.16, 10.12, 8.19\n",
    "    ]\n",
    "    \n",
    "    try:\n",
    "        # Step 1: Extract all DeltaT values from the input file.\n",
    "        delta_t_values = extract_delta_t_values(file_path_OME)\n",
    "        \n",
    "        # Step 2: Create the new array starting from the 50th DeltaT value.\n",
    "        time_values = create_new_array(delta_t_values, offset_values)\n",
    "        \n",
    "        # Step 3: Save the calculated time values to an Excel file.\n",
    "        save_to_excel(time_values, output_file)\n",
    "        print(f\"Successfully saved data to {output_file}\")\n",
    "            \n",
    "    except FileNotFoundError:\n",
    "        # Handles the case where the input file is not found.\n",
    "        print(f\"Error: The file '{file_path_OME}' was not found.\")\n",
    "    except ValueError as e:\n",
    "        # Handles errors related to insufficient DeltaT values.\n",
    "        print(f\"Error: {e}\")\n",
    "    except Exception as e:\n",
    "        # Handles any other unexpected errors.\n",
    "        print(f\"An unexpected error occurred: {e}\")"
   ]
  },
  {
   "cell_type": "markdown",
   "id": "7190b031",
   "metadata": {},
   "source": [
    "## Go back to \"Time_Events_for_.csv\" and save as UTF-8 .csv and use that in AL analysis"
   ]
  },
  {
   "cell_type": "markdown",
   "id": "4b31c831",
   "metadata": {},
   "source": []
  }
 ],
 "metadata": {
  "kernelspec": {
   "display_name": "suite2p",
   "language": "python",
   "name": "python3"
  },
  "language_info": {
   "codemirror_mode": {
    "name": "ipython",
    "version": 3
   },
   "file_extension": ".py",
   "mimetype": "text/x-python",
   "name": "python",
   "nbconvert_exporter": "python",
   "pygments_lexer": "ipython3",
   "version": "3.9.20"
  }
 },
 "nbformat": 4,
 "nbformat_minor": 5
}
